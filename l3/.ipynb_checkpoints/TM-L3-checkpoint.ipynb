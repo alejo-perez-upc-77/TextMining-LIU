{
 "cells": [
  {
   "cell_type": "markdown",
   "metadata": {},
   "source": [
    "# L3: Text clustering and topic modelling"
   ]
  },
  {
   "cell_type": "markdown",
   "metadata": {},
   "source": [
    "Text clustering groups documents in such a way that documents within a group are more &lsquo;similar&rsquo; to other documents in the cluster than to documents not in the cluster. The exact definition of what &lsquo;similar&rsquo; means in this context varies across applications and clustering algorithms.\n",
    "\n",
    "In this lab you will experiment with both hard and soft clustering techniques. More specifically, in the first part you will be using the $k$-means algorithm, and in the second part you will be using a topic model based on the Latent Dirichlet Allocation (LDA)."
   ]
  },
  {
   "cell_type": "markdown",
   "metadata": {},
   "source": [
    "## Hard clustering data set"
   ]
  },
  {
   "cell_type": "markdown",
   "metadata": {},
   "source": [
    "The raw data for the hard clustering part of this lab is a collection of product reviews. We have preprocessed the data by tokenization and lowercasing."
   ]
  },
  {
   "cell_type": "code",
   "execution_count": 1,
   "metadata": {},
   "outputs": [],
   "source": [
    "import pandas as pd\n",
    "import bz2\n",
    "\n",
    "with bz2.open('reviews.json.bz2') as source:\n",
    "    df = pd.read_json(source)"
   ]
  },
  {
   "cell_type": "markdown",
   "metadata": {},
   "source": [
    "When you inspect the data frame, you can see that there are three labelled columns: `category` (the product category), `sentiment` (whether the product review was classified as &lsquo;positive&rsquo; or &lsquo;negative&rsquo; towards the product), and `text` (the space-separated text of the review)."
   ]
  },
  {
   "cell_type": "code",
   "execution_count": 2,
   "metadata": {
    "scrolled": true
   },
   "outputs": [
    {
     "data": {
      "text/html": [
       "<div>\n",
       "<style scoped>\n",
       "    .dataframe tbody tr th:only-of-type {\n",
       "        vertical-align: middle;\n",
       "    }\n",
       "\n",
       "    .dataframe tbody tr th {\n",
       "        vertical-align: top;\n",
       "    }\n",
       "\n",
       "    .dataframe thead th {\n",
       "        text-align: right;\n",
       "    }\n",
       "</style>\n",
       "<table border=\"1\" class=\"dataframe\">\n",
       "  <thead>\n",
       "    <tr style=\"text-align: right;\">\n",
       "      <th></th>\n",
       "      <th>category</th>\n",
       "      <th>sentiment</th>\n",
       "      <th>text</th>\n",
       "    </tr>\n",
       "  </thead>\n",
       "  <tbody>\n",
       "    <tr>\n",
       "      <th>0</th>\n",
       "      <td>music</td>\n",
       "      <td>neg</td>\n",
       "      <td>i bought this album because i loved the title ...</td>\n",
       "    </tr>\n",
       "    <tr>\n",
       "      <th>1</th>\n",
       "      <td>music</td>\n",
       "      <td>neg</td>\n",
       "      <td>i was misled and thought i was buying the enti...</td>\n",
       "    </tr>\n",
       "    <tr>\n",
       "      <th>2</th>\n",
       "      <td>books</td>\n",
       "      <td>neg</td>\n",
       "      <td>i have introduced many of my ell , high school...</td>\n",
       "    </tr>\n",
       "    <tr>\n",
       "      <th>3</th>\n",
       "      <td>books</td>\n",
       "      <td>pos</td>\n",
       "      <td>anything you purchase in the left behind serie...</td>\n",
       "    </tr>\n",
       "    <tr>\n",
       "      <th>4</th>\n",
       "      <td>dvd</td>\n",
       "      <td>pos</td>\n",
       "      <td>i loved these movies , and i cant wiat for the...</td>\n",
       "    </tr>\n",
       "  </tbody>\n",
       "</table>\n",
       "</div>"
      ],
      "text/plain": [
       "  category sentiment                                               text\n",
       "0    music       neg  i bought this album because i loved the title ...\n",
       "1    music       neg  i was misled and thought i was buying the enti...\n",
       "2    books       neg  i have introduced many of my ell , high school...\n",
       "3    books       pos  anything you purchase in the left behind serie...\n",
       "4      dvd       pos  i loved these movies , and i cant wiat for the..."
      ]
     },
     "execution_count": 2,
     "metadata": {},
     "output_type": "execute_result"
    }
   ],
   "source": [
    "df.head()"
   ]
  },
  {
   "cell_type": "code",
   "execution_count": 6,
   "metadata": {},
   "outputs": [
    {
     "data": {
      "text/plain": [
       "music       2000\n",
       "books       2000\n",
       "dvd         2000\n",
       "health      2000\n",
       "camera      1999\n",
       "software    1915\n",
       "Name: category, dtype: int64"
      ]
     },
     "execution_count": 6,
     "metadata": {},
     "output_type": "execute_result"
    }
   ],
   "source": [
    "df[\"category\"].value_counts()"
   ]
  },
  {
   "cell_type": "markdown",
   "metadata": {},
   "source": [
    "## Problem 1: K-means clustering"
   ]
  },
  {
   "cell_type": "markdown",
   "metadata": {},
   "source": [
    "Your first task is to cluster the product review data using a tf–idf vectorizer and a $k$-means clusterer."
   ]
  },
  {
   "cell_type": "markdown",
   "metadata": {},
   "source": [
    "Start by doing the vectorization. In connection with vectorization, you should also filter out standard English stop words. While you could use [spaCy](https://spacy.io/) for this task, here it suffices to use the word list implemented in [TfidfVectorizer](https://scikit-learn.org/stable/modules/generated/sklearn.feature_extraction.text.TfidfVectorizer.html)."
   ]
  },
  {
   "cell_type": "code",
   "execution_count": 2,
   "metadata": {},
   "outputs": [],
   "source": [
    "from sklearn.feature_extraction.text import TfidfVectorizer\n",
    "\n",
    "vectorizer = TfidfVectorizer(stop_words = \"english\")\n",
    "X = vectorizer.fit_transform(df[\"text\"])"
   ]
  },
  {
   "cell_type": "markdown",
   "metadata": {},
   "source": [
    "Test your vectorization by running the following code cell:"
   ]
  },
  {
   "cell_type": "code",
   "execution_count": 4,
   "metadata": {},
   "outputs": [
    {
     "data": {
      "text/plain": [
       "(11914, 46619)"
      ]
     },
     "execution_count": 4,
     "metadata": {},
     "output_type": "execute_result"
    }
   ],
   "source": [
    "X.shape"
   ]
  },
  {
   "cell_type": "markdown",
   "metadata": {},
   "source": [
    "If you used the English stop word list from scikit-learn, then the resulting vocabulary should have 46,619 entries."
   ]
  },
  {
   "cell_type": "markdown",
   "metadata": {},
   "source": [
    "Next, cluster the vectorized data. Before doing so, you should read the documentation of the [KMeans](https://scikit-learn.org/stable/modules/generated/sklearn.cluster.KMeans.html) class, which is scikit-learn&rsquo;s implementation of the $k$-means algorithm. As you can see, this class has several parameters that you can tweak. For now, the only parameter that you will have to set is the number of clusters. We recommend that you choose $k=3$.\n",
    "\n",
    "**Tip:** Training $k$-means models will take some time. To speed things up, you can use the `n_init` parameter to control the number of times that the clustering is re-computed with different initial values. The default value for this parameter is 10; here and in the rest of this lab, you may want to set this to a lower value."
   ]
  },
  {
   "cell_type": "code",
   "execution_count": 3,
   "metadata": {},
   "outputs": [],
   "source": [
    "from sklearn.cluster import KMeans\n",
    "kmeans = KMeans(n_clusters=3).fit(X)"
   ]
  },
  {
   "cell_type": "markdown",
   "metadata": {},
   "source": [
    "To sanity-check your clustering, create a bar plot with the number of documents per cluster."
   ]
  },
  {
   "cell_type": "code",
   "execution_count": 4,
   "metadata": {},
   "outputs": [
    {
     "data": {
      "text/plain": [
       "<AxesSubplot:xlabel='0'>"
      ]
     },
     "execution_count": 4,
     "metadata": {},
     "output_type": "execute_result"
    },
    {
     "data": {
      "image/png": "[encoded data removed]",
      "text/plain": [
       "<Figure size 432x288 with 1 Axes>"
      ]
     },
     "metadata": {
      "needs_background": "light"
     },
     "output_type": "display_data"
    }
   ],
   "source": [
    "pd.DataFrame(kmeans.labels_).value_counts().plot(kind='bar')"
   ]
  },
  {
   "cell_type": "markdown",
   "metadata": {},
   "source": [
    "Note that sizes may vary considerable between clusters and among different random seeds."
   ]
  },
  {
   "cell_type": "markdown",
   "metadata": {},
   "source": [
    "## Problem 2: Summarize clusters"
   ]
  },
  {
   "cell_type": "markdown",
   "metadata": {},
   "source": [
    "Once you have a clustering, you can try to see whether it is meaningful. One useful technique in that context is to generate a **summary** for each cluster by extracting the $n$ highest-weighted terms from the centroid of each cluster. Your next task is to implement this approach.\n",
    "\n",
    "**Hint:** You will need to construct an &lsquo;inverted vocabulary&rsquo; that allows you to map from the index of a term back to the original term."
   ]
  },
  {
   "cell_type": "code",
   "execution_count": 5,
   "metadata": {},
   "outputs": [
    {
     "name": "stdout",
     "output_type": "stream",
     "text": [
      "{'album', 'movie', 'cd', 'good', 'time', 'just', 'use', 'product', 'like', 'great'}\n",
      "{'read', 'book', 'quot', 'just', 'author', 'reading', 'story', 'like', 'books', 'good'}\n",
      "{'quality', 'battery', 'camera', 'flash', 'canon', 'use', 'digital', 'pictures', 'great', 'lens'}\n"
     ]
    }
   ],
   "source": [
    "import numpy as np\n",
    "\n",
    "vocab = vectorizer.vocabulary_\n",
    "\n",
    "for i in range(3):\n",
    "    res = np.argsort(kmeans.cluster_centers_[i,:])[-10:]\n",
    "    t= {s for s in vocab if vocab[s] in res}\n",
    "    print(t)"
   ]
  },
  {
   "cell_type": "markdown",
   "metadata": {},
   "source": [
    "Once you have computed the cluster summaries, discuss their quality. Is it clear what the reviews in a given cluster are about? Which clusters are clearest? Which are less clear? Do the cluster summaries contain any unexpected terms? What happens if you re-cluster with, say, $k=6$?"
   ]
  },
  {
   "cell_type": "code",
   "execution_count": 8,
   "metadata": {},
   "outputs": [
    {
     "name": "stdout",
     "output_type": "stream",
     "text": [
      "{'like', 'great', 'story', 'film', 'watch', 'movies', 'acting', 'good', 'just', 'movie'}\n",
      "{'great', 'canon', 'digital', 'pictures', 'quality', 'flash', 'battery', 'lens', 'camera', 'use'}\n",
      "{'like', 'great', 'does', 'time', 'work', 'product', 'good', 'just', 'software', 'use'}\n",
      "{'like', 'great', 'good', 'cd', 'music', 'songs', 'album', 'song', 'just', 'band'}\n",
      "{'like', 'great', 'cd', 'music', 'album', 'best', 'book', 'quot', 'song', 'just'}\n",
      "{'like', 'read', 'story', 'reading', 'author', 'book', 'good', 'written', 'just', 'books'}\n"
     ]
    }
   ],
   "source": [
    "kmeans = KMeans(n_clusters=6).fit(X)\n",
    "vocab = vectorizer.vocabulary_\n",
    "\n",
    "for i in range(6):\n",
    "    res = np.argsort(kmeans.cluster_centers_[i,:])[-10:]\n",
    "    t= {s for s in vocab if vocab[s] in res}\n",
    "    print(t)"
   ]
  },
  {
   "cell_type": "markdown",
   "metadata": {},
   "source": [
    "3 centroids:\n",
    "- cluster1 - digital entertainment products - not clear \n",
    "- cluster2 - books and stories\n",
    "- cluster3 - electronics\n",
    "\n",
    "however all words are expected \n",
    "\n",
    "6 centroids:\n",
    "\n",
    "- cluster 1 - movies\n",
    "- cluster 2 - camera\n",
    "- cluster 3 - stopwords/ qualities of the product. not clear \n",
    "- cluster 4 - music\n",
    "- cluster 5 - too similirar to cluster 4 but with books \n",
    "- cluster 6 - books \n",
    "\n",
    "we can see that cluster 5 is between cluster 4 and 5. This makes sense as the ground truth has 5 classes. "
   ]
  },
  {
   "cell_type": "markdown",
   "metadata": {},
   "source": [
    "## Problem 3: Compare clusterings using the Rand index"
   ]
  },
  {
   "cell_type": "markdown",
   "metadata": {},
   "source": [
    "In some scenarios, you may have gold-standard class labels available for at least a subset of your documents. In these cases you can compute the **Rand index** of a clustering, and use this measure to compare the quality of different clusterings.\n",
    "\n",
    "To compute the Rand index, we view a clustering as a binary classifier on (unordered) pairs of documents. The classifier predicts &lsquo;positive&rsquo; if and only if the two documents belong to the same cluster. The (non-normalized) Rand index of the clustering is the accuracy of this classifier relative to a reference in which a document pair belongs to the &lsquo;positive&rsquo; class if and only if the two documents in the pair have the same gold-standard class label.\n",
    "\n",
    "Compare clusterings with $k \\in \\{1,3,5,7\\}$ clusters. As your evaluation data, use the first 500 documents from the original data set along with their gold-standard categories (from the `category` column). What do you observe? How do you interpret your observations?"
   ]
  },
  {
   "cell_type": "code",
   "execution_count": 10,
   "metadata": {},
   "outputs": [
    {
     "name": "stdout",
     "output_type": "stream",
     "text": [
      "0.16626052104208416\n",
      "0.4496993987975952\n",
      "0.674380761523046\n",
      "0.7570180360721442\n"
     ]
    }
   ],
   "source": [
    "# TODO: Enter code here to compute the Rand indices for the two clusterings\n",
    "from sklearn.metrics import rand_score\n",
    "\n",
    "validcat = df[\"category\"][:500]\n",
    "validX = X[:500,:]\n",
    "for i in [1,3,5,7]:\n",
    "    kmeans = KMeans(n_clusters=i).fit(X)\n",
    "    print(rand_score(validcat, kmeans.predict(validX)))\n",
    "    \n"
   ]
  },
  {
   "cell_type": "markdown",
   "metadata": {},
   "source": [
    "higher Rand score means that clustered data is more similar to ground truth. We could interprate results as clustering with 7 means are most similar to ground truth "
   ]
  },
  {
   "cell_type": "markdown",
   "metadata": {},
   "source": [
    "## Topic modelling data set"
   ]
  },
  {
   "cell_type": "markdown",
   "metadata": {},
   "source": [
    "The data set for the topic modelling part of this lab is the collection of all [State of the Union](https://en.wikipedia.org/wiki/State_of_the_Union) addresses from the years 1975–2000. These speeches come as a single text file with one sentence per line. The following code cell prints the first 5 lines from the data file:"
   ]
  },
  {
   "cell_type": "code",
   "execution_count": 7,
   "metadata": {},
   "outputs": [
    {
     "name": "stdout",
     "output_type": "stream",
     "text": [
      "mr speaker mr vice president members of the 94th congress and distinguished guests\n",
      "twenty six years ago a freshman congressman a young fellow with lots of idealism who was out to change the world stood before sam rayburn in the well of the house and solemnly swore to the same oath that all of you took yesterday an unforgettable experience and i congratulate you all\n",
      "two days later that same freshman stood at the back of this great chamber over there someplace as president truman all charged up by his single handed election victory reported as the constitution requires on the state of the union\n",
      "when the bipartisan applause stopped president truman said i am happy to report to this 81st congress that the state of the union is good our nation is better able than ever before to meet the needs of the american people and to give them their fair chance in the pursuit of happiness it is foremost among the nations of the world in the search for peace\n",
      "today that freshman member from michigan stands where mr truman stood and i must say to you that the state of the union is not good\n",
      "millions of americans are out of work\n"
     ]
    }
   ],
   "source": [
    "with open('sotu_1975_2000.txt') as source:\n",
    "    for i, line in enumerate(source):\n",
    "        print(line.rstrip())\n",
    "        if i >= 5:\n",
    "            break"
   ]
  },
  {
   "cell_type": "markdown",
   "metadata": {},
   "source": [
    "Take a few minutes to think about what topics you would expect in this data set."
   ]
  },
  {
   "cell_type": "markdown",
   "metadata": {},
   "source": [
    "## Problem 4: Train a topic model"
   ]
  },
  {
   "cell_type": "markdown",
   "metadata": {},
   "source": [
    "Your first task on the topic modelling data is to train an LDA model. For this task you will be using [spaCy](https://spacy.io/) and the [gensim](https://radimrehurek.com/gensim/) topic modelling library.\n",
    "\n",
    "Start by preprocessing the data using spaCy. Given that the data set for this problem is rather small, you do not have to exclude any components from the standard pipeline. Filter out stop words, non-alphabetic tokens, and tokens less than 3 characters in length. Store the documents as a nested list where the first level of nesting corresponds to the sentences and the second level corresponds to the tokens in each sentence."
   ]
  },
  {
   "cell_type": "code",
   "execution_count": 8,
   "metadata": {},
   "outputs": [],
   "source": [
    "import spacy \n",
    "import en_core_web_md\n",
    "nlp = en_core_web_md.load()"
   ]
  },
  {
   "cell_type": "code",
   "execution_count": 9,
   "metadata": {},
   "outputs": [],
   "source": [
    "# TODO: Replace the following lines with your own code for preprocessing the documents\n",
    "with open('sotu_1975_2000.txt') as source:\n",
    "    #documents = [line.split() for line in source]\n",
    "    documents = [[token.text for token in nlp(line) if token.is_stop == False and token.is_alpha == True and len(token) > 2]  for line in source]\n",
    "    \n",
    "    \n",
    "    "
   ]
  },
  {
   "cell_type": "markdown",
   "metadata": {},
   "source": [
    "Test your preprocessing by running the following cell:"
   ]
  },
  {
   "cell_type": "code",
   "execution_count": 10,
   "metadata": {},
   "outputs": [
    {
     "data": {
      "text/plain": [
       "'reduce oil imports million barrels day end year million barrels day end'"
      ]
     },
     "execution_count": 10,
     "metadata": {},
     "output_type": "execute_result"
    }
   ],
   "source": [
    "' '.join(documents[42])"
   ]
  },
  {
   "cell_type": "markdown",
   "metadata": {},
   "source": [
    "You should get the following output:"
   ]
  },
  {
   "cell_type": "raw",
   "metadata": {},
   "source": [
    "'reduce oil imports million barrels day end year million barrels day end'"
   ]
  },
  {
   "cell_type": "markdown",
   "metadata": {},
   "source": [
    "Once you have the list of documents, skim the section [Pre-process and vectorize the documents](https://radimrehurek.com/gensim/auto_examples/tutorials/run_lda.html#pre-process-and-vectorize-the-documents) of the gensim documentation to learn how to create the dictionary and the vectorized corpus representation required by gensim. (Note that you cannot use the standard scikit-learn pipeline in this case.) Then, write code to train an [LdaModel](https://radimrehurek.com/gensim/models/ldamodel.html) for $k=10$ topics, and using default values for all other parameters."
   ]
  },
  {
   "cell_type": "code",
   "execution_count": 11,
   "metadata": {},
   "outputs": [],
   "source": [
    "from gensim.corpora import Dictionary\n",
    "from gensim.models import LdaModel\n",
    "\n",
    "dictionary = Dictionary(documents)\n",
    "corpus = [dictionary.doc2bow(doc) for doc in documents]\n",
    "\n",
    "temp = dictionary[0]  # This is only to \"load\" the dictionary.\n",
    "id2word = dictionary.id2token\n",
    "\n",
    "model = LdaModel(\n",
    "    corpus=corpus,\n",
    "    id2word=id2word,\n",
    "    num_topics=10,\n",
    ")"
   ]
  },
  {
   "cell_type": "code",
   "execution_count": 21,
   "metadata": {},
   "outputs": [
    {
     "data": {
      "text/plain": [
       "[(86, 1), (124, 2), (332, 1), (394, 1), (470, 2), (471, 2), (472, 2), (473, 1)]"
      ]
     },
     "execution_count": 21,
     "metadata": {},
     "output_type": "execute_result"
    }
   ],
   "source": [
    "corpus[42]"
   ]
  },
  {
   "cell_type": "code",
   "execution_count": 72,
   "metadata": {
    "scrolled": true
   },
   "outputs": [
    {
     "name": "stdout",
     "output_type": "stream",
     "text": [
      "Number of unique tokens: 8496\n",
      "Number of documents: 2898\n"
     ]
    }
   ],
   "source": [
    "print('Number of unique tokens: %d' % len(dictionary))\n",
    "print('Number of documents: %d' % len(corpus))"
   ]
  },
  {
   "cell_type": "markdown",
   "metadata": {},
   "source": [
    "Once you have a trained model, run the following cell to print the topics:"
   ]
  },
  {
   "cell_type": "code",
   "execution_count": 73,
   "metadata": {
    "scrolled": true
   },
   "outputs": [
    {
     "data": {
      "text/plain": [
       "[(0,\n",
       "  '0.010*\"years\" + 0.007*\"welfare\" + 0.007*\"budget\" + 0.006*\"teen\" + 0.006*\"time\" + 0.006*\"security\" + 0.005*\"americans\" + 0.005*\"people\" + 0.005*\"let\" + 0.005*\"government\"'),\n",
       " (1,\n",
       "  '0.012*\"people\" + 0.011*\"america\" + 0.010*\"care\" + 0.009*\"health\" + 0.008*\"year\" + 0.008*\"government\" + 0.008*\"american\" + 0.008*\"work\" + 0.007*\"trade\" + 0.007*\"years\"'),\n",
       " (2,\n",
       "  '0.019*\"new\" + 0.012*\"years\" + 0.012*\"people\" + 0.009*\"work\" + 0.008*\"world\" + 0.008*\"americans\" + 0.007*\"congress\" + 0.007*\"million\" + 0.007*\"economy\" + 0.007*\"year\"'),\n",
       " (3,\n",
       "  '0.011*\"america\" + 0.010*\"new\" + 0.010*\"children\" + 0.009*\"american\" + 0.009*\"know\" + 0.008*\"world\" + 0.008*\"schools\" + 0.008*\"century\" + 0.008*\"people\" + 0.008*\"tonight\"'),\n",
       " (4,\n",
       "  '0.010*\"america\" + 0.009*\"new\" + 0.009*\"college\" + 0.008*\"families\" + 0.008*\"tax\" + 0.008*\"education\" + 0.008*\"work\" + 0.008*\"years\" + 0.007*\"people\" + 0.007*\"help\"'),\n",
       " (5,\n",
       "  '0.009*\"immigrants\" + 0.008*\"ask\" + 0.007*\"congress\" + 0.007*\"medicare\" + 0.005*\"government\" + 0.004*\"new\" + 0.004*\"surplus\" + 0.004*\"people\" + 0.004*\"american\" + 0.004*\"budget\"'),\n",
       " (6,\n",
       "  '0.014*\"america\" + 0.011*\"world\" + 0.010*\"crime\" + 0.009*\"people\" + 0.007*\"new\" + 0.006*\"nation\" + 0.006*\"way\" + 0.006*\"work\" + 0.006*\"year\" + 0.006*\"time\"'),\n",
       " (7,\n",
       "  '0.011*\"people\" + 0.010*\"year\" + 0.009*\"children\" + 0.009*\"new\" + 0.006*\"school\" + 0.006*\"national\" + 0.006*\"help\" + 0.006*\"thank\" + 0.006*\"bill\" + 0.006*\"america\"'),\n",
       " (8,\n",
       "  '0.009*\"year\" + 0.007*\"bosnia\" + 0.006*\"ask\" + 0.006*\"america\" + 0.006*\"children\" + 0.006*\"policy\" + 0.005*\"world\" + 0.005*\"northern\" + 0.005*\"empower\" + 0.005*\"people\"'),\n",
       " (9,\n",
       "  '0.014*\"congress\" + 0.011*\"america\" + 0.011*\"year\" + 0.009*\"children\" + 0.007*\"government\" + 0.006*\"world\" + 0.006*\"new\" + 0.006*\"century\" + 0.006*\"president\" + 0.005*\"people\"')]"
      ]
     },
     "execution_count": 73,
     "metadata": {},
     "output_type": "execute_result"
    }
   ],
   "source": [
    "model.print_topics()"
   ]
  },
  {
   "cell_type": "markdown",
   "metadata": {},
   "source": [
    "Inspect the topics. Can you &lsquo;label&rsquo; each topic with a short description of what it is about? Do the topics match your expectations? Summarize your discussion in a short text."
   ]
  },
  {
   "cell_type": "markdown",
   "metadata": {},
   "source": [
    "- topic 1 : national and public expenditure \n",
    "- topic 2: americas healtcare\n",
    "- topic 3: economy \n",
    "- topic 4: children education in america\n",
    "- topic 5: work ,education ,america\n",
    "- topic 6: immigration politics \n",
    "- topic 7: crime \n",
    "- topic 8: investment in education \n",
    "- topic 9: foreign politics \n",
    "- topic 10: government stuff \n",
    "\n",
    "yes it matched our expectations as all topics are related to politics, and country problems. "
   ]
  },
  {
   "cell_type": "markdown",
   "metadata": {},
   "source": [
    "## Problem 5: Monitor a topic model for convergence"
   ]
  },
  {
   "cell_type": "markdown",
   "metadata": {},
   "source": [
    "When learning an LDA model, it is important to make sure that the training algorithm has converged to a stable posterior distribution. One way to do so is to plot, after each training epochs (or &lsquo;pass&rsquo;, in gensim parlance) the log likelihood of the training data under the posterior. Your last task in this lab is to create such a plot and, based on this, to suggest an appropriate number of epochs.\n",
    "\n",
    "To collect information about the posterior likelihood after each pass, we need to enable the logging facilities of gensim. Once this is done, gensim will add various diagnostics to a log file `gensim.log`."
   ]
  },
  {
   "cell_type": "code",
   "execution_count": 74,
   "metadata": {},
   "outputs": [],
   "source": [
    "import logging\n",
    "\n",
    "logging.basicConfig(filename='gensim.log', format='%(asctime)s:%(levelname)s:%(message)s', level=logging.INFO)"
   ]
  },
  {
   "cell_type": "markdown",
   "metadata": {},
   "source": [
    "The following function will parse the generated logfile and return the list of log likelihoods."
   ]
  },
  {
   "cell_type": "code",
   "execution_count": 75,
   "metadata": {},
   "outputs": [],
   "source": [
    "import re\n",
    "\n",
    "def parse_logfile():\n",
    "    matcher = re.compile('(-*\\d+\\.\\d+) per-word .* (\\d+\\.\\d+) perplexity')\n",
    "    likelihoods = []\n",
    "    with open('gensim.log') as source:\n",
    "        for line in source:\n",
    "            match = matcher.search(line)\n",
    "            if match:\n",
    "                likelihoods.append(float(match.group(1)))\n",
    "    return likelihoods"
   ]
  },
  {
   "cell_type": "markdown",
   "metadata": {},
   "source": [
    "Your task now is to re-train your LDA model for 50&nbsp;passes, retrieve the list of log likelihoods, and create a plot from this data."
   ]
  },
  {
   "cell_type": "code",
   "execution_count": 76,
   "metadata": {},
   "outputs": [],
   "source": [
    "model = LdaModel(\n",
    "    corpus=corpus,\n",
    "    id2word=id2word,\n",
    "    num_topics=10,\n",
    "    passes=50\n",
    ")"
   ]
  },
  {
   "cell_type": "code",
   "execution_count": 78,
   "metadata": {},
   "outputs": [
    {
     "data": {
      "text/plain": [
       "[<matplotlib.lines.Line2D at 0x22a2dda4190>]"
      ]
     },
     "execution_count": 78,
     "metadata": {},
     "output_type": "execute_result"
    },
    {
     "data": {
      "image/png": "[encoded data removed]",
      "text/plain": [
       "<Figure size 432x288 with 1 Axes>"
      ]
     },
     "metadata": {
      "needs_background": "light"
     },
     "output_type": "display_data"
    }
   ],
   "source": [
    "import matplotlib.pyplot as plt\n",
    "plt.plot(parse_logfile())"
   ]
  },
  {
   "cell_type": "markdown",
   "metadata": {},
   "source": [
    "How do you interpret your plot? Based on the plot, what would be a reasonable choice for the number of passes? Retrain your LDA model with that number and re-inspect the topics it finds. Do you consider the new topics to be &lsquo;better&rsquo; than the ones that you got from the 1-pass model in Problem&nbsp;5?"
   ]
  },
  {
   "cell_type": "code",
   "execution_count": 79,
   "metadata": {},
   "outputs": [
    {
     "data": {
      "text/plain": [
       "[(0,\n",
       "  '0.015*\"space\" + 0.010*\"wage\" + 0.008*\"minimum\" + 0.006*\"challenge\" + 0.005*\"crime\" + 0.005*\"efforts\" + 0.005*\"teacher\" + 0.005*\"new\" + 0.005*\"gone\" + 0.005*\"community\"'),\n",
       " (1,\n",
       "  '0.022*\"america\" + 0.014*\"people\" + 0.014*\"nation\" + 0.014*\"world\" + 0.012*\"tonight\" + 0.010*\"years\" + 0.010*\"americans\" + 0.009*\"let\" + 0.009*\"new\" + 0.009*\"century\"'),\n",
       " (2,\n",
       "  '0.015*\"work\" + 0.013*\"children\" + 0.013*\"new\" + 0.012*\"care\" + 0.012*\"tax\" + 0.010*\"people\" + 0.010*\"year\" + 0.010*\"health\" + 0.009*\"families\" + 0.009*\"americans\"'),\n",
       " (3,\n",
       "  '0.018*\"people\" + 0.013*\"america\" + 0.012*\"year\" + 0.012*\"government\" + 0.011*\"children\" + 0.010*\"know\" + 0.009*\"american\" + 0.008*\"congress\" + 0.008*\"let\" + 0.007*\"right\"'),\n",
       " (4,\n",
       "  '0.025*\"world\" + 0.018*\"peace\" + 0.016*\"america\" + 0.013*\"trade\" + 0.012*\"freedom\" + 0.009*\"nations\" + 0.009*\"new\" + 0.008*\"people\" + 0.008*\"future\" + 0.007*\"american\"'),\n",
       " (5,\n",
       "  '0.012*\"security\" + 0.012*\"administration\" + 0.011*\"congress\" + 0.010*\"thank\" + 0.010*\"policy\" + 0.009*\"social\" + 0.008*\"budget\" + 0.007*\"reform\" + 0.007*\"federal\" + 0.006*\"program\"'),\n",
       " (6,\n",
       "  '0.010*\"congress\" + 0.009*\"federal\" + 0.007*\"president\" + 0.007*\"help\" + 0.007*\"members\" + 0.007*\"american\" + 0.007*\"programs\" + 0.007*\"like\" + 0.006*\"americans\" + 0.006*\"rights\"'),\n",
       " (7,\n",
       "  '0.017*\"energy\" + 0.009*\"new\" + 0.009*\"security\" + 0.008*\"oil\" + 0.008*\"help\" + 0.008*\"social\" + 0.007*\"nation\" + 0.007*\"year\" + 0.007*\"development\" + 0.006*\"national\"'),\n",
       " (8,\n",
       "  '0.011*\"years\" + 0.010*\"new\" + 0.010*\"federal\" + 0.009*\"crime\" + 0.009*\"government\" + 0.009*\"growth\" + 0.009*\"percent\" + 0.008*\"economic\" + 0.007*\"year\" + 0.006*\"rate\"'),\n",
       " (9,\n",
       "  '0.019*\"nuclear\" + 0.015*\"years\" + 0.014*\"security\" + 0.010*\"defense\" + 0.009*\"weapons\" + 0.008*\"forces\" + 0.008*\"war\" + 0.008*\"military\" + 0.007*\"year\" + 0.006*\"europe\"')]"
      ]
     },
     "execution_count": 79,
     "metadata": {},
     "output_type": "execute_result"
    }
   ],
   "source": [
    "model = LdaModel(\n",
    "    corpus=corpus,\n",
    "    id2word=id2word,\n",
    "    num_topics=10,\n",
    "    passes=8\n",
    ")\n",
    "\n",
    "model.print_topics()"
   ]
  },
  {
   "cell_type": "markdown",
   "metadata": {},
   "source": [
    "higher the log likelihhod, better the model matches the ground truth. we chose 8 passes as after that likelihood doesnt increase much. THese topics are more fine - grained as tere are not so may words repeated over different topics."
   ]
  },
  {
   "cell_type": "markdown",
   "metadata": {},
   "source": [
    "<div class=\"alert alert-info\">\n",
    "    Please read the section ‘General information’ on the ‘Labs’ page of the course website before submitting this notebook!\n",
    "</div>"
   ]
  }
 ],
 "metadata": {
  "kernelspec": {
   "display_name": "Python 3 (ipykernel)",
   "language": "python",
   "name": "python3"
  },
  "language_info": {
   "codemirror_mode": {
    "name": "ipython",
    "version": 3
   },
   "file_extension": ".py",
   "mimetype": "text/x-python",
   "name": "python",
   "nbconvert_exporter": "python",
   "pygments_lexer": "ipython3",
   "version": "3.8.12"
  }
 },
 "nbformat": 4,
 "nbformat_minor": 2
}
